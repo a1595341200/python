{
 "cells": [
  {
   "cell_type": "code",
   "execution_count": 2,
   "metadata": {},
   "outputs": [
    {
     "data": {
      "text/plain": [
       "array([[0.7316812 , 0.61639326],\n",
       "       [0.9759296 , 0.41219735],\n",
       "       [0.49990148, 0.0789405 ],\n",
       "       [0.29246561, 0.54206962],\n",
       "       [0.7065663 , 0.9545568 ]])"
      ]
     },
     "execution_count": 2,
     "metadata": {},
     "output_type": "execute_result"
    }
   ],
   "source": [
    "import numpy as np\n",
    "a = np.random.rand(5,2)\n",
    "a\n"
   ]
  },
  {
   "cell_type": "code",
   "execution_count": 6,
   "metadata": {},
   "outputs": [
    {
     "data": {
      "text/plain": [
       "array([[-0.47563037, -2.21088924],\n",
       "       [ 0.54226585, -0.69914854]])"
      ]
     },
     "execution_count": 6,
     "metadata": {},
     "output_type": "execute_result"
    }
   ],
   "source": [
    "#标准正态分布\n",
    "a = np.random.randn(2,2)\n",
    "a\n"
   ]
  },
  {
   "cell_type": "code",
   "execution_count": 23,
   "metadata": {},
   "outputs": [
    {
     "data": {
      "text/plain": [
       "array([ 5, 18,  8, 12,  6,  8,  8, 18, 11, 14])"
      ]
     },
     "execution_count": 23,
     "metadata": {},
     "output_type": "execute_result"
    }
   ],
   "source": [
    "#不包括100\n",
    "a = np.random.randint(1,20,10)\n",
    "a\n"
   ]
  },
  {
   "cell_type": "code",
   "execution_count": 25,
   "metadata": {},
   "outputs": [
    {
     "name": "stdout",
     "output_type": "stream",
     "text": [
      "1\n",
      "<class 'numpy.int64'>\n",
      "[[1 3]\n",
      " [1 2]\n",
      " [5 3]]\n"
     ]
    },
    {
     "name": "stderr",
     "output_type": "stream",
     "text": [
      "/var/folders/fv/6h3sbf5962b9mpbt6n40mz7c0000gn/T/ipykernel_41056/1252471005.py:2: DeprecationWarning: This function is deprecated. Please call randint(1, 3 + 1) instead\n",
      "  a = np.random.random_integers(3)\n",
      "/var/folders/fv/6h3sbf5962b9mpbt6n40mz7c0000gn/T/ipykernel_41056/1252471005.py:4: DeprecationWarning: This function is deprecated. Please call randint(1, 3 + 1) instead\n",
      "  b = type(np.random.random_integers(3))\n",
      "/var/folders/fv/6h3sbf5962b9mpbt6n40mz7c0000gn/T/ipykernel_41056/1252471005.py:6: DeprecationWarning: This function is deprecated. Please call randint(1, 5 + 1) instead\n",
      "  c = np.random.random_integers(5, size=(3, 2))\n"
     ]
    }
   ],
   "source": [
    "#这个 random 模块的函数用于在 low 和 high 之间生成 np.int 类型的随机整数。\n",
    "a = np.random.random_integers(3) \n",
    "print(a)\n",
    "b = type(np.random.random_integers(3)) \n",
    "print(b) \n",
    "c = np.random.random_integers(5, size=(3, 2)) \n",
    "print(c)\n"
   ]
  },
  {
   "cell_type": "code",
   "execution_count": 36,
   "metadata": {},
   "outputs": [
    {
     "name": "stdout",
     "output_type": "stream",
     "text": [
      "0.6260075928979836\n",
      "<class 'float'>\n",
      "[0.21768062 0.97116301 0.67917054 0.33155981 0.93249101]\n"
     ]
    }
   ],
   "source": [
    "#np.random.random_sample([size])\n",
    "#个 random 模块的函数用于在半开区间 [0.0, 1.0) 中生成随机浮点数。\n",
    "a = np.random.random_sample() \n",
    "print(a)\n",
    "b = type(np.random.random_sample()) \n",
    "print(b)\n",
    "c = np.random.random_sample((5,)) \n",
    "print(c)\n"
   ]
  },
  {
   "cell_type": "code",
   "execution_count": 38,
   "metadata": {},
   "outputs": [
    {
     "name": "stdout",
     "output_type": "stream",
     "text": [
      "0.0032110463209213957\n",
      "<class 'float'>\n",
      "[0.38008732 0.45786058 0.87579662 0.18317328 0.99631533]\n"
     ]
    }
   ],
   "source": [
    "#np.random.random([size])\n",
    "#这个 random 模块的函数用于在半开区间 [0.0, 1.0) 中生成随机浮点数。\n",
    "a = np.random.random() \n",
    "print(a)\n",
    "b = type(np.random.random()) \n",
    "print(b)\n",
    "c = np.random.random((5,)) \n",
    "print(c)\n"
   ]
  },
  {
   "cell_type": "code",
   "execution_count": 39,
   "metadata": {},
   "outputs": [
    {
     "name": "stdout",
     "output_type": "stream",
     "text": [
      "0.7709477520436994\n",
      "<class 'float'>\n",
      "[0.66962016 0.44339353 0.34395123 0.28875197 0.4382277 ]\n"
     ]
    }
   ],
   "source": [
    "#np.random.ranf([size])\n",
    "#这个随机模块的函数用于生成半开区间 [0.0, 1.0) 内的随机浮点数。\n",
    "a=np.random.ranf()  \n",
    "print(a)\n",
    "b=type(np.random.ranf())  \n",
    "print(b)\n",
    "c=np.random.ranf((5,))  \n",
    "print(c)\n"
   ]
  },
  {
   "cell_type": "code",
   "execution_count": 40,
   "metadata": {},
   "outputs": [
    {
     "data": {
      "text/plain": [
       "b'W\\xcapu\\xf1e\\x16'"
      ]
     },
     "execution_count": 40,
     "metadata": {},
     "output_type": "execute_result"
    }
   ],
   "source": [
    "a=np.random.bytes(7)  \n",
    "a\n"
   ]
  },
  {
   "cell_type": "code",
   "execution_count": 41,
   "metadata": {},
   "outputs": [
    {
     "name": "stdout",
     "output_type": "stream",
     "text": [
      "[ 0  1  2  3  4  5  6  7  8  9 10 11]\n",
      "[ 2 11  1  8  3  7  0 10  4  9  6  5]\n"
     ]
    }
   ],
   "source": [
    "a=np.arange(12)  \n",
    "print(a)  \n",
    "np.random.shuffle(a)  \n",
    "print(a)\n"
   ]
  },
  {
   "cell_type": "code",
   "execution_count": 42,
   "metadata": {},
   "outputs": [
    {
     "data": {
      "text/plain": [
       "array([7, 8, 5, 8, 7, 5, 6, 5, 9, 6])"
      ]
     },
     "execution_count": 42,
     "metadata": {},
     "output_type": "execute_result"
    }
   ],
   "source": [
    "#这个函数用于从二项分布中抽取样本。\n",
    "n, p = 10, .6  \n",
    "s1= np.random.binomial(n, p, 10)  \n",
    "s1 \n"
   ]
  },
  {
   "cell_type": "code",
   "execution_count": 43,
   "metadata": {},
   "outputs": [
    {
     "data": {
      "text/plain": [
       "0.3874"
      ]
     },
     "execution_count": 43,
     "metadata": {},
     "output_type": "execute_result"
    }
   ],
   "source": [
    "#这个函数用于从卡方分布中抽取样本。\n",
    "np.random.chisquare(2,4)  \n",
    "sum(np.random.binomial(9, 0.1, 20000) == 0)/20000.  \n"
   ]
  },
  {
   "cell_type": "code",
   "execution_count": 49,
   "metadata": {},
   "outputs": [
    {
     "data": {
      "image/png": "[encoded data removed]",
      "text/plain": [
       "<Figure size 640x480 with 1 Axes>"
      ]
     },
     "metadata": {},
     "output_type": "display_data"
    }
   ],
   "source": [
    "#这个函数用于从 Dirichlet 分布中抽取样本。\n",
    "import matplotlib.pyplot as plt  \n",
    "s1 = np.random.dirichlet((10, 5, 3), 20).transpose()  \n",
    "plt.barh(range(20), s1[0])  \n",
    "plt.barh(range(20), s1[1], left=s1[0], color='g')  \n",
    "plt.barh(range(20), s1[2], left=s1[0]+s1[1], color='r')  \n",
    "plt.title(\"Lengths of Strings\")  \n",
    "plt.show()\n"
   ]
  },
  {
   "cell_type": "code",
   "execution_count": 50,
   "metadata": {},
   "outputs": [
    {
     "data": {
      "image/png": "[encoded data removed]",
      "text/plain": [
       "<Figure size 640x480 with 1 Axes>"
      ]
     },
     "metadata": {},
     "output_type": "display_data"
    }
   ],
   "source": [
    "mean = (1, 2)  \n",
    "coveriance = [[1, 0], [0, 100]]   \n",
    "import matplotlib.pyplot as plt  \n",
    "a, b = np.random.multivariate_normal(mean, coveriance, 5000).T  \n",
    "plt.plot(a, b, 'x')  \n",
    "plt.axis('equal')\n",
    "plt.show()\n"
   ]
  }
 ],
 "metadata": {
  "kernelspec": {
   "display_name": "Python 3",
   "language": "python",
   "name": "python3"
  },
  "language_info": {
   "codemirror_mode": {
    "name": "ipython",
    "version": 3
   },
   "file_extension": ".py",
   "mimetype": "text/x-python",
   "name": "python",
   "nbconvert_exporter": "python",
   "pygments_lexer": "ipython3",
   "version": "3.9.6"
  }
 },
 "nbformat": 4,
 "nbformat_minor": 2
}
